{
 "cells": [
  {
   "cell_type": "code",
   "execution_count": 1,
   "id": "003f2c85-467f-4857-a64c-0295e2e09bf7",
   "metadata": {},
   "outputs": [
    {
     "name": "stdout",
     "output_type": "stream",
     "text": [
      "[(['the', 'sun'], 'rises'), (['sun', 'rises'], 'in'), (['rises', 'in'], 'the')]\n"
     ]
    }
   ],
   "source": [
    "import torch\n",
    "import torch.nn as nn\n",
    "import torch.nn.functional as F\n",
    "import random\n",
    "\n",
    "# Sample corpus\n",
    "text = \"the sun rises in the east and sets in the west\"\n",
    "\n",
    "# Tokenize\n",
    "words = text.lower().split()\n",
    "vocab = list(set(words))\n",
    "word_to_ix = {word: i for i, word in enumerate(vocab)}\n",
    "ix_to_word = {i: word for word, i in word_to_ix.items()}\n",
    "\n",
    "# Generate trigrams: context = (w1, w2), target = w3\n",
    "trigrams = [([words[i], words[i + 1]], words[i + 2]) for i in range(len(words) - 2)]\n",
    "print(trigrams[:3])\n"
   ]
  },
  {
   "cell_type": "code",
   "execution_count": 2,
   "id": "d2213bd2-b7d7-4ca2-8764-65eb08bba044",
   "metadata": {},
   "outputs": [],
   "source": [
    "class NGramLanguageModel(nn.Module):\n",
    "    def __init__(self, vocab_size, embedding_dim, context_size):\n",
    "        super(NGramLanguageModel, self).__init__()\n",
    "        self.embeddings = nn.Embedding(vocab_size, embedding_dim)\n",
    "        self.linear1 = nn.Linear(context_size * embedding_dim, 128)\n",
    "        self.linear2 = nn.Linear(128, vocab_size)\n",
    "\n",
    "    def forward(self, inputs):\n",
    "        embeds = self.embeddings(inputs).view((1, -1))\n",
    "        out = F.relu(self.linear1(embeds))\n",
    "        out = self.linear2(out)\n",
    "        return out\n"
   ]
  },
  {
   "cell_type": "code",
   "execution_count": 5,
   "id": "fd8d309d-d5c2-4b85-a5a8-a93824fd5168",
   "metadata": {},
   "outputs": [
    {
     "data": {
      "text/plain": [
       "8"
      ]
     },
     "execution_count": 5,
     "metadata": {},
     "output_type": "execute_result"
    }
   ],
   "source": [
    "len(vocab)"
   ]
  },
  {
   "cell_type": "code",
   "execution_count": 9,
   "id": "a873ff43-8693-4bd1-8bc3-3b0262d029aa",
   "metadata": {},
   "outputs": [
    {
     "name": "stdout",
     "output_type": "stream",
     "text": [
      "NGramLanguageModel(\n",
      "  (embeddings): Embedding(8, 10)\n",
      "  (linear1): Linear(in_features=20, out_features=128, bias=True)\n",
      "  (linear2): Linear(in_features=128, out_features=8, bias=True)\n",
      ")\n",
      "Epoch 0, Loss: 19.8202\n",
      "Epoch 10, Loss: 7.5456\n",
      "Epoch 20, Loss: 4.0914\n",
      "Epoch 30, Loss: 2.9292\n",
      "Epoch 40, Loss: 2.4596\n",
      "Epoch 50, Loss: 2.2263\n",
      "Epoch 60, Loss: 2.0916\n",
      "Epoch 70, Loss: 2.0061\n",
      "Epoch 80, Loss: 1.9452\n",
      "Epoch 90, Loss: 1.9022\n"
     ]
    }
   ],
   "source": [
    "CONTEXT_SIZE = 2\n",
    "EMBEDDING_DIM = 10\n",
    "\n",
    "model = NGramLanguageModel(len(vocab), EMBEDDING_DIM, CONTEXT_SIZE)\n",
    "print(model)\n",
    "loss_function = nn.CrossEntropyLoss()\n",
    "optimizer = torch.optim.SGD(model.parameters(), lr=0.01)\n",
    "\n",
    "# Training loop\n",
    "for epoch in range(100):\n",
    "    total_loss = 0\n",
    "    for context, target in trigrams:\n",
    "        context_idxs = torch.tensor([word_to_ix[w] for w in context], dtype=torch.long)\n",
    "        target_idx = torch.tensor([word_to_ix[target]], dtype=torch.long)\n",
    "        # Forward + loss\n",
    "        log_probs = model(context_idxs)\n",
    "        loss = loss_function(log_probs, target_idx)\n",
    "\n",
    "        # Backward + update\n",
    "        optimizer.zero_grad()\n",
    "        loss.backward()\n",
    "        optimizer.step()\n",
    "\n",
    "        total_loss += loss.item()\n",
    "\n",
    "    if epoch % 10 == 0:\n",
    "        print(f\"Epoch {epoch}, Loss: {total_loss:.4f}\")\n"
   ]
  },
  {
   "cell_type": "code",
   "execution_count": 7,
   "id": "bac70cb1-3120-485e-ac25-2346ccf99346",
   "metadata": {},
   "outputs": [
    {
     "name": "stdout",
     "output_type": "stream",
     "text": [
      "Predicted word: rises\n"
     ]
    }
   ],
   "source": [
    "# Predict next word\n",
    "context = ['the', 'sun']\n",
    "context_idxs = torch.tensor([word_to_ix[w] for w in context], dtype=torch.long)\n",
    "output = model(context_idxs)\n",
    "predicted_idx = torch.argmax(output).item()\n",
    "print(f\"Predicted word: {ix_to_word[predicted_idx]}\")\n"
   ]
  },
  {
   "cell_type": "code",
   "execution_count": null,
   "id": "2a916500-ceb4-46b7-9e7d-53a3798bb29d",
   "metadata": {},
   "outputs": [],
   "source": []
  }
 ],
 "metadata": {
  "kernelspec": {
   "display_name": "Python 3 (ipykernel)",
   "language": "python",
   "name": "python3"
  },
  "language_info": {
   "codemirror_mode": {
    "name": "ipython",
    "version": 3
   },
   "file_extension": ".py",
   "mimetype": "text/x-python",
   "name": "python",
   "nbconvert_exporter": "python",
   "pygments_lexer": "ipython3",
   "version": "3.12.7"
  }
 },
 "nbformat": 4,
 "nbformat_minor": 5
}
